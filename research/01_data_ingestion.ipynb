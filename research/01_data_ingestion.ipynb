{
 "cells": [
  {
   "cell_type": "code",
   "execution_count": 9,
   "metadata": {},
   "outputs": [],
   "source": [
    "import os\n",
    "\n",
    "\n",
    "import urllib.request as request\n",
    "import zipfile\n",
    "\n",
    "from pathlib import Path\n",
    "from dataclasses import dataclass\n",
    "\n",
    "from ImageClassification import logger\n",
    "from ImageClassification.utils.common import get_size\n",
    "\n",
    "from ImageClassification.utils.common import read_yaml, create_directories\n",
    "from ImageClassification.constants import CONFIG_FILE_PATH, PARAMS_FILE_PATH"
   ]
  },
  {
   "cell_type": "code",
   "execution_count": 2,
   "metadata": {},
   "outputs": [],
   "source": [
    "'''\n",
    "Setting up the directories\n",
    "'''\n",
    "\n",
    "CURRENT_DIRECTORY = os.getcwd()\n",
    "PARENT_DIRECTORY = os.path.dirname(CURRENT_DIRECTORY)\n",
    "\n",
    "# data Directory\n",
    "DATA_PARENT_DIRECTORY = os.path.dirname(PARENT_DIRECTORY)\n",
    "DATA_DIRECTORY = os.path.join(DATA_PARENT_DIRECTORY, '/_data_DL_Chicken_Disease_Classification_AWS_AZURE_DVC')\n",
    "\n",
    "TRAIN_DATA = os.path.join(DATA_PARENT_DIRECTORY, '/train')\n",
    "VALIDATION_DATA = os.path.join(DATA_PARENT_DIRECTORY, '/test')\n",
    "TEST_DATA = os.path.join(DATA_PARENT_DIRECTORY, '/validation')\n",
    "\n",
    "# # # Usage\n",
    "# CONFIG_DIRECTORY = os.path.join(PARENT_DIRECTORY, 'config')\n",
    "# CONFIG_FILE_PATH = os.path.join(CONFIG_DIRECTORY, 'config.yaml')\n",
    "\n",
    "\n",
    "# print('CURRENT_DIRECTORY', CURRENT_DIRECTORY)\n",
    "# print('PARENT_DIRECTORY', PARENT_DIRECTORY)\n",
    "# print('DATA_PARENT_DIRECTORY', DATA_PARENT_DIRECTORY)\n",
    "# print('DATA_DIRECTORY', DATA_DIRECTORY)\n",
    "# print('TRAIN_DATA', TRAIN_DATA)\n",
    "# print('VALIDATION_DATA', VALIDATION_DATA)\n",
    "# print('TEST_DATA', TEST_DATA)\n",
    "# print('CONFIG_DIRECTORY', CONFIG_DIRECTORY)\n",
    "# print('CONFIG_FILE_PATH', CONFIG_FILE_PATH)"
   ]
  },
  {
   "cell_type": "code",
   "execution_count": 3,
   "metadata": {},
   "outputs": [],
   "source": [
    "\n",
    "\n",
    "@dataclass(frozen=True)\n",
    "class DataIngestionConfig:\n",
    "    root_dir: Path\n",
    "    source_URL: str\n",
    "    local_data_file: Path\n",
    "    unzip_dir: Path"
   ]
  },
  {
   "cell_type": "code",
   "execution_count": 4,
   "metadata": {},
   "outputs": [],
   "source": [
    "class ConfigurationManager:\n",
    "    def __init__(self,\n",
    "        config_filepath: Path = CONFIG_FILE_PATH,\n",
    "        params_filepath: Path = PARAMS_FILE_PATH):\n",
    "\n",
    "        self.config = read_yaml(config_filepath)\n",
    "        self.params = read_yaml(params_filepath)\n",
    "\n",
    "        create_directories([self.config.artifacts_root])\n",
    "\n",
    "    def get_data_ingestion_config(self) -> DataIngestionConfig:\n",
    "        config = self.config.data_ingestion\n",
    "\n",
    "        create_directories([config.root_dir])\n",
    "\n",
    "        data_ingestion_config = DataIngestionConfig(\n",
    "            root_dir=config.root_dir,\n",
    "            source_URL=config.source_URL,\n",
    "            local_data_file=config.local_data_file,\n",
    "            unzip_dir=config.unzip_dir\n",
    "        )\n",
    "\n",
    "        return data_ingestion_config"
   ]
  },
  {
   "cell_type": "code",
   "execution_count": 5,
   "metadata": {},
   "outputs": [],
   "source": [
    "class DataIngestion:\n",
    "    def __init__(self, config: DataIngestionConfig):\n",
    "        self.config = config\n",
    "\n",
    "    def download_file(self):\n",
    "        if not os.path.exists(self.config.local_data_file):\n",
    "            filename, headers = request.urlretrieve(\n",
    "                url=self.config.source_URL,\n",
    "                filename=self.config.local_data_file\n",
    "            )\n",
    "            logger.info(f\"{filename} downloaded! with following info: \\n{headers}\")\n",
    "        else:\n",
    "            logger.info(f\"File already exists of size: {get_size(Path(self.config.local_data_file))}\")\n",
    "\n",
    "    def extract_zip_file(self):\n",
    "        unzip_path = self.config.unzip_dir\n",
    "        os.makedirs(unzip_path, exist_ok=True)\n",
    "        with zipfile.ZipFile(self.config.local_data_file, 'r') as zip_ref:\n",
    "            zip_ref.extractall(unzip_path)\n"
   ]
  },
  {
   "cell_type": "code",
   "execution_count": 6,
   "metadata": {},
   "outputs": [
    {
     "name": "stdout",
     "output_type": "stream",
     "text": [
      "YAML content: {'artifacts_root': 'artifacts', 'data_ingestion': {'root_dir': 'artifacts/data_ingestion', 'source_URL': 'https://drive.google.com/file/d/1xi8NeALtgToc2GONJuv1AoTwTY62RPVg/view?usp=drive_link', 'local_data_file': 'artifacts/data_ingestion/data.zip', 'unzip_dir': 'artifacts/data_ingestion'}}\n",
      "[2024-05-21 18:23:18,148: INFO: common: YAML file: C:\\Users\\Nimbus\\_00_Peter_Practice_Projects\\_02_In_Progress\\_02_ML_Projects_Krish_Naik_Course_list\\_02_DL_MLOPS_DVC_AZURE_AWS\\DL_Chicken_Disease_Classification_AWS_AZURE_DVC\\config\\config.yaml loaded successfully]\n",
      "YAML content: {'learning_rate': 0.01, 'batch_size': 32, 'num_epochs': 10}\n",
      "[2024-05-21 18:23:18,150: INFO: common: YAML file: C:\\Users\\Nimbus\\_00_Peter_Practice_Projects\\_02_In_Progress\\_02_ML_Projects_Krish_Naik_Course_list\\_02_DL_MLOPS_DVC_AZURE_AWS\\DL_Chicken_Disease_Classification_AWS_AZURE_DVC\\params.yaml loaded successfully]\n",
      "[2024-05-21 18:23:18,151: INFO: common: Created Directory at : artifacts]\n",
      "[2024-05-21 18:23:18,152: INFO: common: Created Directory at : artifacts/data_ingestion]\n",
      "[2024-05-21 18:23:18,153: INFO: 2462356770: File already exists of size: ~ 11345 KB]\n"
     ]
    }
   ],
   "source": [
    "try:\n",
    "    config = ConfigurationManager()\n",
    "    data_ingestion_config = config.get_data_ingestion_config()\n",
    "    data_ingestion = DataIngestion(config=data_ingestion_config)\n",
    "    data_ingestion.download_file()\n",
    "    data_ingestion.extract_zip_file()\n",
    "except Exception as e:\n",
    "    logger.error(f\"Error during data ingestion: {e}\")\n",
    "    raise e\n"
   ]
  },
  {
   "cell_type": "code",
   "execution_count": 8,
   "metadata": {},
   "outputs": [],
   "source": [
    "# -----------------------------------"
   ]
  },
  {
   "cell_type": "code",
   "execution_count": null,
   "metadata": {},
   "outputs": [],
   "source": []
  },
  {
   "cell_type": "code",
   "execution_count": null,
   "metadata": {},
   "outputs": [],
   "source": []
  },
  {
   "cell_type": "code",
   "execution_count": null,
   "metadata": {},
   "outputs": [],
   "source": []
  },
  {
   "cell_type": "code",
   "execution_count": null,
   "metadata": {},
   "outputs": [],
   "source": []
  },
  {
   "cell_type": "code",
   "execution_count": null,
   "metadata": {},
   "outputs": [],
   "source": []
  },
  {
   "cell_type": "code",
   "execution_count": null,
   "metadata": {},
   "outputs": [],
   "source": []
  },
  {
   "cell_type": "code",
   "execution_count": null,
   "metadata": {},
   "outputs": [],
   "source": []
  }
 ],
 "metadata": {
  "kernelspec": {
   "display_name": "DLMLops_DVC_Azure_AWS",
   "language": "python",
   "name": "python3"
  },
  "language_info": {
   "codemirror_mode": {
    "name": "ipython",
    "version": 3
   },
   "file_extension": ".py",
   "mimetype": "text/x-python",
   "name": "python",
   "nbconvert_exporter": "python",
   "pygments_lexer": "ipython3",
   "version": "3.9.19"
  }
 },
 "nbformat": 4,
 "nbformat_minor": 2
}
