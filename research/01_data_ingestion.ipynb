{
 "cells": [
  {
   "cell_type": "code",
   "execution_count": 28,
   "metadata": {},
   "outputs": [],
   "source": [
    "import os\n",
    "from dataclasses import dataclass\n",
    "from pathlib import Path\n",
    "import yaml"
   ]
  },
  {
   "cell_type": "code",
   "execution_count": 34,
   "metadata": {},
   "outputs": [],
   "source": [
    "'''\n",
    "Setting up the directories \n",
    "'''\n",
    "\n",
    "CURRENT_DIRECTORY = os.getcwd()\n",
    "PARENT_DIRECTORY = os.path.dirname(CURRENT_DIRECTORY)\n",
    "\n",
    "# data Directory\n",
    "DATA_PARENT_DIRECTORY = os.path.dirname(PARENT_DIRECTORY)\n",
    "DATA_DIRECTORY = os.path.join(DATA_PARENT_DIRECTORY, '/_data_DL_Chicken_Disease_Classification_AWS_AZURE_DVC')\n",
    "\n",
    "TRAIN_DATA = os.path.join(DATA_PARENT_DIRECTORY, '/train')\n",
    "VALIDATION_DATA = os.path.join(DATA_PARENT_DIRECTORY, '/test')\n",
    "TEST_DATA = os.path.join(DATA_PARENT_DIRECTORY, '/validation')\n",
    "\n",
    "# print('CURRENT_DIRECTORY', CURRENT_DIRECTORY)\n",
    "# print('PARENT_DIRECTORY', PARENT_DIRECTORY)\n",
    "# print('DATA_PARENT_DIRECTORY', DATA_PARENT_DIRECTORY)\n",
    "# print('DATA_DIRECTORY', DATA_DIRECTORY)\n",
    "# print('TRAIN_DATA', TRAIN_DATA)\n",
    "# print('VALIDATION_DATA', VALIDATION_DATA)\n",
    "# print('TEST_DATA', TEST_DATA)"
   ]
  },
  {
   "cell_type": "code",
   "execution_count": 52,
   "metadata": {},
   "outputs": [
    {
     "name": "stdout",
     "output_type": "stream",
     "text": [
      "DataIngestionConfig(root_dir=WindowsPath('artifacts/data_ingestion'), train_dir=WindowsPath('C:/Users/petersunny.markappa/_00_Peter_Practice_Projects/_02_In_Progress/_02_ML_Projects_Krish_Naik_Course_list/02_DL_MLOPS_DVC_Azure_AWS/_data_DL_Chicken_Disease_Classification_AWS_AZURE_DVC/train'), validation_dir=WindowsPath('C:/Users/petersunny.markappa/_00_Peter_Practice_Projects/_02_In_Progress/_02_ML_Projects_Krish_Naik_Course_list/02_DL_MLOPS_DVC_Azure_AWS/_data_DL_Chicken_Disease_Classification_AWS_AZURE_DVC/validation'), test_dir=WindowsPath('C:/Users/petersunny.markappa/_00_Peter_Practice_Projects/_02_In_Progress/_02_ML_Projects_Krish_Naik_Course_list/02_DL_MLOPS_DVC_Azure_AWS/_data_DL_Chicken_Disease_Classification_AWS_AZURE_DVC/test'))\n"
     ]
    }
   ],
   "source": [
    "# 4. UPDATE the entity\n",
    "\n",
    "@dataclass(frozen=True)\n",
    "class DataIngestionConfig:\n",
    "    root_dir : Path\n",
    "    train_dir : Path\n",
    "    validation_dir : Path\n",
    "    test_dir : Path\n",
    "\n",
    "\n",
    "# Function to load config from YAML and create a DataIngestionConfig instance\n",
    "def load_data_ingestion_config(config_path: str) -> DataIngestionConfig:\n",
    "    with open(config_path, 'r') as file:\n",
    "        config = yaml.safe_load(file)\n",
    "\n",
    "    data_root_path = Path(config['data_root_path'])\n",
    "    data_ingestion = config['data_ingestion']\n",
    "\n",
    "    return DataIngestionConfig(\n",
    "        root_dir = Path(data_ingestion['root_dir']),\n",
    "        train_dir = data_root_path/data_ingestion['train_dir'],\n",
    "        validation_dir = data_root_path/data_ingestion['validation_dir'],\n",
    "        test_dir = data_root_path/data_ingestion['test_dir']\n",
    "    )\n",
    "\n",
    "\n",
    "# Usage \n",
    "CONFIG_DIRECTORY = os.path.join(PARENT_DIRECTORY, 'config')\n",
    "config_path = os.path.join(CONFIG_DIRECTORY, 'config.yaml') \n",
    "data_ingestion_config = load_data_ingestion_config(config_path)\n",
    "print(data_ingestion_config)"
   ]
  },
  {
   "cell_type": "code",
   "execution_count": 49,
   "metadata": {},
   "outputs": [],
   "source": [
    "from ImageClassification.constants import *\n",
    "from ImageClassification.utils.common import read_yaml, create_directories"
   ]
  },
  {
   "cell_type": "code",
   "execution_count": 51,
   "metadata": {},
   "outputs": [],
   "source": [
    "# 5. UPDATE the configuration manager in src config\n",
    "class ConfigurationManager:\n",
    "    def __init__(self,\n",
    "                 config_filepath = CONFIG_FILE_PATH,\n",
    "                 params_filepath = PARAMS_FILE_PATH):\n",
    "        self.config = read_yaml(config_filepath)\n",
    "        self.params = read_yaml(params_filepath)\n",
    "\n",
    "        create_directories([self.config.artifacts_root])\n",
    "    \n",
    "    def get_data_ingestion_config(self)-> DataIngestionConfig:\n",
    "        config = self.config.data_ingestion\n",
    "\n",
    "        create_directories([config.root_dir])\n",
    "\n",
    "        data_ingestion_config = DataIngestionConfig(\n",
    "            root_dir = config.root_dir,\n",
    "            train_dir = config.train_dir,\n",
    "            validation_dir = config.validation_dir,\n",
    "            test_dir = config.test_dir\n",
    "        )\n",
    "        return data_ingestion_config\n",
    "        \n",
    "        "
   ]
  },
  {
   "cell_type": "code",
   "execution_count": 53,
   "metadata": {},
   "outputs": [],
   "source": [
    "# 6. UPDATE the components\n",
    "import os\n",
    "import urllib.request as request\n",
    "import zipfile\n",
    "from ImageClassification import logger\n",
    "from ImageClassification.utils.common import get_size\n",
    "\n",
    "class DataIngestion:\n",
    "    def __init__(self, config: DataIngestionConfig):\n",
    "        self.config = config\n",
    "    \n",
    "    def download_file(self):\n",
    "        if not os.path.exists(self.config.local_data_file):\n",
    "            fi\n",
    "\n",
    "\n",
    "\n",
    "\n"
   ]
  },
  {
   "cell_type": "code",
   "execution_count": null,
   "metadata": {},
   "outputs": [],
   "source": [
    "class DataIngestion:\n",
    "    def __init__(self, config: DataIngestionConfig):\n",
    "        self.config = config\n",
    "\n",
    "\n",
    "    \n",
    "    def download_file(self):\n",
    "        if not os.path.exists(self.config.local_data_file):\n",
    "            filename, headers = request.urlretrieve(\n",
    "                url = self.config.source_URL,\n",
    "                filename = self.config.local_data_file\n",
    "            )\n",
    "            logger.info(f\"{filename} download! with following info: \\n{headers}\")\n",
    "        else:\n",
    "            logger.info(f\"File already exists of size: {get_size(Path(self.config.local_data_file))}\")  \n",
    "\n",
    "\n",
    "    \n",
    "    def extract_zip_file(self):\n",
    "        \"\"\"\n",
    "        zip_file_path: str\n",
    "        Extracts the zip file into the data directory\n",
    "        Function returns None\n",
    "        \"\"\"\n",
    "        unzip_path = self.config.unzip_dir\n",
    "        os.makedirs(unzip_path, exist_ok=True)\n",
    "        with zipfile.ZipFile(self.config.local_data_file, 'r') as zip_ref:\n",
    "            zip_ref.extractall(unzip_path)"
   ]
  },
  {
   "cell_type": "code",
   "execution_count": null,
   "metadata": {},
   "outputs": [],
   "source": []
  }
 ],
 "metadata": {
  "kernelspec": {
   "display_name": "DLMLops_DVC_Azure_AWS",
   "language": "python",
   "name": "python3"
  },
  "language_info": {
   "codemirror_mode": {
    "name": "ipython",
    "version": 3
   },
   "file_extension": ".py",
   "mimetype": "text/x-python",
   "name": "python",
   "nbconvert_exporter": "python",
   "pygments_lexer": "ipython3",
   "version": "3.9.0"
  }
 },
 "nbformat": 4,
 "nbformat_minor": 2
}
