{
 "cells": [
  {
   "cell_type": "code",
   "execution_count": 1,
   "metadata": {},
   "outputs": [],
   "source": [
    "import os\n",
    "\n",
    "\n",
    "import urllib.request as request\n",
    "import zipfile\n",
    "import yaml\n",
    "from pathlib import Path\n",
    "from dataclasses import dataclass\n",
    "\n",
    "from ImageClassification import logger\n",
    "from ImageClassification.utils.common import get_size\n",
    "\n",
    "from ImageClassification.utils.common import read_yaml, create_directories\n",
    "from ImageClassification.constants import CONFIG_FILE_PATH, PARAMS_FILE_PATH\n",
    "\n",
    "from urllib.error import HTTPError"
   ]
  },
  {
   "cell_type": "code",
   "execution_count": 2,
   "metadata": {},
   "outputs": [],
   "source": [
    "'''\n",
    "Setting up the directories\n",
    "'''\n",
    "\n",
    "CURRENT_DIRECTORY = os.getcwd()\n",
    "PARENT_DIRECTORY = os.path.dirname(CURRENT_DIRECTORY)\n",
    "\n",
    "# data Directory\n",
    "DATA_PARENT_DIRECTORY = os.path.dirname(PARENT_DIRECTORY)\n",
    "DATA_DIRECTORY = os.path.join(DATA_PARENT_DIRECTORY, '/_data_DL_Chicken_Disease_Classification_AWS_AZURE_DVC')\n",
    "\n",
    "TRAIN_DATA = os.path.join(DATA_PARENT_DIRECTORY, '/train')\n",
    "VALIDATION_DATA = os.path.join(DATA_PARENT_DIRECTORY, '/test')\n",
    "TEST_DATA = os.path.join(DATA_PARENT_DIRECTORY, '/validation')\n",
    "\n",
    "# # # Usage\n",
    "# CONFIG_DIRECTORY = os.path.join(PARENT_DIRECTORY, 'config')\n",
    "# CONFIG_FILE_PATH = os.path.join(CONFIG_DIRECTORY, 'config.yaml')\n",
    "\n",
    "\n",
    "# print('CURRENT_DIRECTORY', CURRENT_DIRECTORY)\n",
    "# print('PARENT_DIRECTORY', PARENT_DIRECTORY)\n",
    "# print('DATA_PARENT_DIRECTORY', DATA_PARENT_DIRECTORY)\n",
    "# print('DATA_DIRECTORY', DATA_DIRECTORY)\n",
    "# print('TRAIN_DATA', TRAIN_DATA)\n",
    "# print('VALIDATION_DATA', VALIDATION_DATA)\n",
    "# print('TEST_DATA', TEST_DATA)\n",
    "# print('CONFIG_DIRECTORY', CONFIG_DIRECTORY)\n",
    "# print('CONFIG_FILE_PATH', CONFIG_FILE_PATH)"
   ]
  },
  {
   "cell_type": "code",
   "execution_count": 3,
   "metadata": {},
   "outputs": [],
   "source": [
    "\n",
    "\n",
    "@dataclass(frozen=True)\n",
    "class DataIngestionConfig:\n",
    "    root_dir: Path\n",
    "    source_URL: str\n",
    "    local_data_file: Path\n",
    "    unzip_dir: Path\n",
    "    train_dir: Path\n",
    "    validation_dir: Path\n",
    "    test_dir: Path"
   ]
  },
  {
   "cell_type": "code",
   "execution_count": 4,
   "metadata": {},
   "outputs": [],
   "source": [
    "class ConfigurationManager:\n",
    "    def __init__(self,\n",
    "        config_filepath: Path = CONFIG_FILE_PATH,\n",
    "        params_filepath: Path = PARAMS_FILE_PATH):\n",
    "\n",
    "        self.config_filepath = config_filepath  # Store config filepath as attribute\n",
    "        self.params_filepath = params_filepath\n",
    "\n",
    "        self.config = read_yaml(config_filepath)\n",
    "        self.params = read_yaml(params_filepath)\n",
    "\n",
    "        create_directories([self.config.artifacts_root])\n",
    "\n",
    "    def get_data_ingestion_config(self) -> DataIngestionConfig:\n",
    "        with open(self.config_filepath, 'r') as file:\n",
    "            self.config = yaml.safe_load(file)\n",
    "\n",
    "        data_root_path = Path(self.config['data_root_path'])\n",
    "        data_ingestion = self.config['data_ingestion']\n",
    "\n",
    "        return DataIngestionConfig(\n",
    "        root_dir=Path(data_ingestion['root_dir']),\n",
    "        train_dir=data_root_path / data_ingestion['train_dir'],\n",
    "        validation_dir=data_root_path / data_ingestion['validation_dir'],\n",
    "        test_dir=data_root_path / data_ingestion['test_dir'],\n",
    "        source_URL=data_ingestion['source_URL'],\n",
    "        local_data_file=data_root_path / data_ingestion['local_data_file'],\n",
    "        unzip_dir=data_root_path / data_ingestion['unzip_dir']\n",
    "        )\n"
   ]
  },
  {
   "cell_type": "code",
   "execution_count": 5,
   "metadata": {},
   "outputs": [],
   "source": [
    "class DataIngestion:\n",
    "    def __init__(self, config: DataIngestionConfig):\n",
    "        self.config = config\n",
    "\n",
    "    def download_file(self):\n",
    "        if self.config.source_URL and self.config.local_data_file:\n",
    "            local_data_file_path = Path(self.config.local_data_file)\n",
    "            if not os.path.exists(local_data_file_path.parent):\n",
    "                os.makedirs(local_data_file_path.parent, exist_ok=True)\n",
    "            \n",
    "            if not os.path.exists(self.config.local_data_file):\n",
    "                try:\n",
    "                    filename, headers = request.urlretrieve(\n",
    "                        url=self.config.source_URL,\n",
    "                        filename=self.config.local_data_file\n",
    "                    )\n",
    "                except HTTPError as e:\n",
    "                    logger.error(f'HTTP Error: {e}')\n",
    "                    raise\n",
    "                except Exception as e:\n",
    "                    logger.error(f'Error during file download : {e}')\n",
    "                    raise\n",
    "            else:\n",
    "                logger.info(f'File already exists of size: {get_size(Path(self.config.local_data_file))}')\n",
    "        else:\n",
    "            logger.info('Skipping download, source_URL or local_data_file not provided.')\n",
    "\n",
    "    # def extract_zip_file(self):\n",
    "    #     if self.config.unzip_dir and self.config.local_data_file:\n",
    "    #         unzip_dir_path = Path(self.config.unzip_dir)\n",
    "    #         if not unzip_dir_path.exists():\n",
    "    #             os.makedirs(unzip_dir_path, exist_ok=True)\n",
    "            \n",
    "    #         if not any(unzip_dir_path.iterdir()):  # Check if Directory is empty\n",
    "    #             with zipfile.ZipFile(self.config.local_data_file, 'r') as zip_ref:\n",
    "    #                 zip_ref.extractall(unzip_dir_path)\n",
    "    #             logger.info(f'Extracted Zip file to {unzip_dir_path}')\n",
    "    #         else:\n",
    "    #             logger.info(f'Unzip directory already exists: {unzip_dir_path}')\n",
    "    #     else:\n",
    "    #         logger.info('Skipping unzip, unzip_dir or local_data_file not provided.')\n",
    "\n",
    "    # def extract_zip_file(self):\n",
    "    #     if self.config.unzip_dir and self.config.local_data_file:\n",
    "    #         if not os.path.exists(self.config.unzip_dir):\n",
    "    #             os.makedirs(self.config.unzip_dir, exist_ok=True)\n",
    "    #             with zipfile.ZipFile(self.config.local_data_file, 'r') as zip_ref:\n",
    "    #                 zip_ref.extractall(self.config.unzip_dir)\n",
    "    #         else:\n",
    "    #             logger.info(f'Unzip directory already exists: {self.config.unzip_dir}')\n",
    "    #     else:\n",
    "    #         logger.info('Skipping unzip, unzip_dir or local_data_file not provided.')\n",
    "\n",
    "    def extract_zip_file(self):\n",
    "        \"\"\"\n",
    "        zip_file_path: str\n",
    "        Extracts the zip file into the data directory\n",
    "        Function returns None\n",
    "        \"\"\"\n",
    "        unzip_path = self.config.unzip_dir\n",
    "        os.makedirs(unzip_path, exist_ok=True)\n",
    "        with zipfile.ZipFile(self.config.local_data_file, 'r') as zip_ref:\n",
    "            zip_ref.extractall(unzip_path)\n",
    "\n",
    "    def setup_local_data(self):\n",
    "        # Use the / operator to join paths\n",
    "        self.config.train_dir = Path(self.config.root_dir) / self.config.train_dir\n",
    "        self.config.validation_dir = Path(self.config.root_dir) / self.config.validation_dir\n",
    "        self.config.test_dir = Path(self.config.root_dir) / self.config.test_dir\n",
    "\n",
    "        for path in [self.config.train_dir, self.config.validation_dir, self.config.test_dir]:\n",
    "            if not os.path.exists(path):\n",
    "                logger.warning(f'Missing expected directory: {path}')\n"
   ]
  },
  {
   "cell_type": "code",
   "execution_count": 6,
   "metadata": {},
   "outputs": [
    {
     "name": "stdout",
     "output_type": "stream",
     "text": [
      "YAML content: {'artifacts_root': 'artifacts', 'data_root_path': '', 'data_ingestion': {'root_dir': 'artifacts/data_ingestion', 'source_URL': 'https://github.com/entbappy/Branching-tutorial/raw/master/Chicken-fecal-images.zip', 'local_data_file': 'artifacts/data_ingestion/data.zip', 'unzip_dir': 'artifacts/data_ingestion', 'train_dir': '', 'validation_dir': '', 'test_dir': ''}, 'prepare_base_model': {'root_dir': 'artifacts/prepare_base_model', 'base_model_path': 'artifacts/prepare_base_model/base_model.h5', 'update_base_model_path': 'artifacts/prepare_base_model/base_model_update.h5'}, 'perpare_callbacks': {'root_dir': 'artifacts/prepare_callbacks', 'tensorboard_root_log_dir': 'artifacts/prepare_callbacks/tensorboard_log_dir', 'checkpoint_model_filepath': 'artifacts/prepare_callbacks/checkpoint_dir/model.keras'}, 'training': {'root_dir': 'artifacts/training', 'trained_model_path': 'artifacts/training/model.h5'}}\n",
      "[2024-05-24 13:36:55,577: INFO: common: YAML file: C:\\Users\\petersunny.markappa\\_00_Peter_Practice_Projects\\_02_In_Progress\\_02_ML_Projects_Krish_Naik_Course_list\\02_DL_MLOPS_DVC_Azure_AWS\\DL_Chicken_Disease_Classification_AWS_AZURE_DVC\\config\\config.yaml loaded successfully]\n",
      "YAML content: {'AUGMENTATION': True, 'IMAGE_SIZE': [224, 224, 3], 'BATCH_SIZE': 16, 'INCLUDE_TOP': False, 'EPOCHS': 1, 'CLASSES': 2, 'WEIGHTS': 'imagenet', 'LEARNING_RATE': 0.01}\n",
      "[2024-05-24 13:36:55,579: INFO: common: YAML file: C:\\Users\\petersunny.markappa\\_00_Peter_Practice_Projects\\_02_In_Progress\\_02_ML_Projects_Krish_Naik_Course_list\\02_DL_MLOPS_DVC_Azure_AWS\\DL_Chicken_Disease_Classification_AWS_AZURE_DVC\\params.yaml loaded successfully]\n"
     ]
    }
   ],
   "source": [
    "try:\n",
    "    config = ConfigurationManager()\n",
    "    data_ingestion_config = config.get_data_ingestion_config()\n",
    "    data_ingestion = DataIngestion(config=data_ingestion_config)\n",
    "    data_ingestion.download_file()\n",
    "    data_ingestion.extract_zip_file()\n",
    "except Exception as e:\n",
    "    logger.error(f\"Error during data ingestion: {e}\")\n",
    "    raise e\n"
   ]
  },
  {
   "cell_type": "code",
   "execution_count": 7,
   "metadata": {},
   "outputs": [],
   "source": [
    "# ----------------------------------- Demo Code end here -----"
   ]
  },
  {
   "cell_type": "code",
   "execution_count": null,
   "metadata": {},
   "outputs": [],
   "source": []
  },
  {
   "cell_type": "code",
   "execution_count": null,
   "metadata": {},
   "outputs": [],
   "source": []
  },
  {
   "cell_type": "code",
   "execution_count": null,
   "metadata": {},
   "outputs": [],
   "source": []
  },
  {
   "cell_type": "code",
   "execution_count": null,
   "metadata": {},
   "outputs": [],
   "source": []
  },
  {
   "cell_type": "code",
   "execution_count": null,
   "metadata": {},
   "outputs": [],
   "source": []
  },
  {
   "cell_type": "code",
   "execution_count": null,
   "metadata": {},
   "outputs": [],
   "source": []
  },
  {
   "cell_type": "code",
   "execution_count": null,
   "metadata": {},
   "outputs": [],
   "source": []
  }
 ],
 "metadata": {
  "kernelspec": {
   "display_name": "DLMLops_DVC_Azure_AWS",
   "language": "python",
   "name": "python3"
  },
  "language_info": {
   "codemirror_mode": {
    "name": "ipython",
    "version": 3
   },
   "file_extension": ".py",
   "mimetype": "text/x-python",
   "name": "python",
   "nbconvert_exporter": "python",
   "pygments_lexer": "ipython3",
   "version": "3.9.5"
  }
 },
 "nbformat": 4,
 "nbformat_minor": 2
}
